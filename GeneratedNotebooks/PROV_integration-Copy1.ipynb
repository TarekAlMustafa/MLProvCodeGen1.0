{
 "cells": [
  {
   "cell_type": "markdown",
   "id": "ff7f0791",
   "metadata": {},
   "source": [
    "\n",
    "# Multiclass Classification\n",
    "\n",
    "Building a neural network to solve a multiclass classification exercise using the PyTorch framework.<br>\n",
    "Classification is one of the basic machine learning exercises. A trained model aims to predict the class of an input unit with high accuracy. <br>\n",
    "This neural network uses supervised learning, meaning that the input datasets also provide target labels to train the model with. <br>\n",
    "<br>\n",
    "This Notebook has been generated automatically using the JupyterLab extension ***MLProvCodeGen***.\n",
    "<br>\n",
    "\n",
    "Original Source Code and inspiration from this article https://janakiev.com/blog/pytorch-iris/ <br>\n",
    "Original author: N. Janakiev https://github.com/njanakiev Twitter: https://twitter.com/njanakiev\n",
    "        "
   ]
  },
  {
   "cell_type": "markdown",
   "id": "b5f5c827",
   "metadata": {},
   "source": [
    "### Installs\n",
    "Install required packages before running"
   ]
  },
  {
   "cell_type": "code",
   "execution_count": 1,
   "id": "0413ed93",
   "metadata": {},
   "outputs": [],
   "source": [
    "#pip install numpy===1.22.2 pandas===1.3.3 matplotlib===3.5.1 sklearn==0.0 torch===1.8.0 tqdm===4.60.0 ipywidgets===7.6.5 pytorch-model-summary===0.1.2 ipython===7.31.1 gputil===1.4.0 psutil===5.9.0 py-cpuinfo===8.0.0 --user\n",
    "#torch currently not supported with python 3.10, downgrading to python 3.9.7 possibly required\n",
    "#!pip install prov 2.0.0"
   ]
  },
  {
   "cell_type": "markdown",
   "id": "4395f601",
   "metadata": {},
   "source": [
    "### Imports"
   ]
  },
  {
   "cell_type": "code",
   "execution_count": 2,
   "id": "55029ee8",
   "metadata": {},
   "outputs": [],
   "source": [
    "import numpy as np\n",
    "import pandas as pd\n",
    "import matplotlib\n",
    "import matplotlib.pyplot as plt\n",
    "import sklearn\n",
    "import GPUtil\n",
    "import psutil\n",
    "import cpuinfo\n",
    "import platform\n",
    "from sklearn.datasets import load_iris\n",
    "from sklearn.model_selection import train_test_split\n",
    "from sklearn.preprocessing import StandardScaler, OneHotEncoder\n",
    "from sklearn.metrics import roc_curve, auc, confusion_matrix, f1_score, mean_absolute_error, mean_squared_error \n",
    "import torch\n",
    "import torch.nn.functional as F\n",
    "import torch.nn as nn\n",
    "from torch.autograd import Variable\n",
    "import tqdm\n",
    "from tqdm import trange\n",
    "from datetime import date\n",
    "import time\n",
    "from pytorch_model_summary import hierarchical_summary\n",
    "import json\n",
    "import ipywidgets as widgets\n",
    "import webbrowser\n",
    "import IPython\n",
    "from IPython.display import display\n",
    "\n",
    "plt.style.use('ggplot')\n",
    "\n",
    "from prov.model import ProvDocument\n",
    "import prov as prov\n",
    "import datetime"
   ]
  },
  {
   "cell_type": "markdown",
   "id": "b4e4b347",
   "metadata": {},
   "source": [
    "### Provenance Data "
   ]
  },
  {
   "cell_type": "code",
   "execution_count": 3,
   "id": "5c434676",
   "metadata": {},
   "outputs": [],
   "source": [
    "def get_size(bytes, suffix=\"B\"):\n",
    "    \"\"\"\n",
    "    Scale bytes to its proper format\n",
    "    e.g:\n",
    "        1253656 => '1.20MB'\n",
    "        1253656678 => '1.17GB'\n",
    "    \"\"\"\n",
    "    factor = 1024\n",
    "    for unit in [\"\", \"K\", \"M\", \"G\", \"T\", \"P\"]:\n",
    "        if bytes < factor:\n",
    "            return f\"{bytes:.2f}{unit}{suffix}\"\n",
    "        bytes /= factor\n",
    "\n",
    "#namespaces\n",
    "d1 = ProvDocument()\n",
    "d1.set_default_namespace('provenanceexample.org')"
   ]
  },
  {
   "cell_type": "code",
   "execution_count": 4,
   "id": "bad4b4d3-0387-4b24-9576-d09ee987236e",
   "metadata": {},
   "outputs": [
    {
     "data": {
      "text/plain": [
       "<ProvAgent: Tarek Al Mustafa>"
      ]
     },
     "execution_count": 4,
     "metadata": {},
     "output_type": "execute_result"
    }
   ],
   "source": [
    "#set_experiment_info()\n",
    "d1.add_namespace('experimentinfo', 'experimentinfo.org')\n",
    "e1 = d1.entity('experiment_info', (\n",
    "    ('experimentinfo:author', 'Tarek Al Mustafa'),\n",
    "    ('experimentinfo:email', 'tarek.almustafa@uni-jena.de'),\n",
    "    ('experimentinfo:title', 'Multiclass Classification'),\n",
    "    ('experimentinfo:creation_date', str(date.today())),\n",
    "    ('experimentinfo:task_type', 'MulticlassClassification'),\n",
    "))\n",
    "#activity\n",
    "a1 = d1.activity('set_experiment_info()', datetime.datetime.now(), None)\n",
    "\n",
    "d1.wasGeneratedBy(e1, a1, None, {'ex:fct': 'set'})\n",
    "d1.wasAssociatedWith('experiment_info', 'Tarek Al Mustafa', None, None)\n",
    "d1.agent('Tarek Al Mustafa')               "
   ]
  },
  {
   "cell_type": "code",
   "execution_count": 5,
   "id": "825b3da4-d955-473a-a255-682b07789751",
   "metadata": {},
   "outputs": [
    {
     "data": {
      "text/plain": [
       "<ProvCommunication: (set_hardware_info(), GPUtil.getGPUs())>"
      ]
     },
     "execution_count": 5,
     "metadata": {},
     "output_type": "execute_result"
    }
   ],
   "source": [
    "#set_hardware_info()\n",
    "uname = platform.uname()\n",
    "sysInfo = str(uname.system +' '+ uname.release +' Version: '+ uname.version +' Machine: '+ uname.machine)\n",
    "    \n",
    "svmem = psutil.virtual_memory()\n",
    "\n",
    "GPUs = GPUtil.getGPUs()\n",
    "gpuList = []\n",
    "for gpu in GPUs:\n",
    "    gpu_id = gpu.id\n",
    "    gpu_name = gpu.name\n",
    "    gpuList.append((gpu_id , gpu_name))\n",
    "\n",
    "        \n",
    "d1.add_namespace('hardwareinfo', 'hardwareinfo.org')\n",
    "e2 = d1.entity('hardware_info', (\n",
    "    ('hardwareinfo:Python Version', cpuinfo.get_cpu_info()['python_version']),\n",
    "    ('hardwareinfo:CPU', cpuinfo.get_cpu_info()['brand_raw']),\n",
    "    ('hardwareinfo:RAM',  get_size(svmem.total)),\n",
    "    ('hardwareinfo:Operating System', sysInfo),\n",
    "    ('hardwareinfo:GPUs', str(gpuList)),\n",
    "))\n",
    "#activity\n",
    "a2 = d1.activity('set_hardware_info()', datetime.datetime.now(), None)\n",
    "a3 = d1.activity('platform.uname()')\n",
    "a4 = d1.activity('cpuinfo.get_cpu_info()')\n",
    "a5 = d1.activity('svmem.total')\n",
    "a6 = d1.activity('get_size(svmem.total)')\n",
    "a7 = d1.activity('GPUtil.getGPUs()')\n",
    "d1.wasGeneratedBy(e2, a2, None, {'experimentinfo:fct': 'set'})\n",
    "d1.wasInformedBy(a2, a3)\n",
    "d1.wasInformedBy(a2, a4)\n",
    "d1.wasInformedBy(a2, a5)\n",
    "d1.wasInformedBy(a5, a6)\n",
    "d1.wasInformedBy(a2, a7)"
   ]
  },
  {
   "cell_type": "code",
   "execution_count": 6,
   "id": "f5094792-c47f-48ef-bf12-8f994bffcad9",
   "metadata": {},
   "outputs": [
    {
     "data": {
      "text/plain": [
       "<ProvCommunication: (set_packages(), !pip list | grep -i pytorch-model-summary)>"
      ]
     },
     "execution_count": 6,
     "metadata": {},
     "output_type": "execute_result"
    }
   ],
   "source": [
    "#set_packages\n",
    "cpuInfo_version = !pip list | grep -i py-cpuinfo\n",
    "pytorch_model_summary_version = !pip list | grep -i pytorch-model-summary\n",
    "\n",
    "d1.add_namespace('packages', 'packages.org')\n",
    "\n",
    "e3 = d1.entity('packages', (\n",
    "    ('packages:numpy', np.__version__),\n",
    "    ('packages:pandas', pd.__version__),\n",
    "    ('packages:matplotlib',  matplotlib.__version__),\n",
    "    ('packages:sklearn', sklearn.__version__),\n",
    "    ('packages:torch', torch.__version__),\n",
    "    ('packages:tqdm', tqdm.__version__),\n",
    "    ('packages:ipywidgets', widgets.__version__),\n",
    "    ('packages:pytorch-model-summary', pytorch_model_summary_version[0]),\n",
    "    ('packages:ipython', IPython.__version__),\n",
    "    ('packages:gputil', GPUtil.__version__),\n",
    "    ('packages:psutil', psutil.__version__),\n",
    "    ('packages:py-cpuinfo', cpuInfo_version[0]),\n",
    "    ('packages:prov', prov.__version__),  \n",
    "))\n",
    "a8 = d1.activity('set_packages()', datetime.datetime.now())\n",
    "a9 = d1.activity('{package_name}.__version__')\n",
    "a10 = d1.activity('!pip list | grep -i py-cpuinfo')\n",
    "a11 = d1.activity('!pip list | grep -i pytorch-model-summary')\n",
    "d1.wasGeneratedBy(e3, a8, None, {'packages:fct': 'set'})\n",
    "d1.wasInformedBy(a8,a9)\n",
    "d1.wasInformedBy(a8,a10)\n",
    "d1.wasInformedBy(a8,a11)"
   ]
  },
  {
   "cell_type": "markdown",
   "id": "063613c2",
   "metadata": {},
   "source": [
    "### Data Ingestion"
   ]
  },
  {
   "cell_type": "code",
   "execution_count": 7,
   "id": "c4f4e2b1",
   "metadata": {},
   "outputs": [],
   "source": [
    "#Data Ingestion\n",
    "iris = load_iris()\n",
    "X = iris['data']\n",
    "y = iris['target']\n",
    "names = iris['target_names']\n",
    "output_dim = len(names)\n",
    "feature_names = iris['feature_names']"
   ]
  },
  {
   "cell_type": "code",
   "execution_count": 8,
   "id": "19ccc8d6-ab1d-4f81-abf4-009f32ccda9d",
   "metadata": {},
   "outputs": [
    {
     "data": {
      "text/plain": [
       "<ProvGeneration: (data_ingestion, set_data_ingestion())>"
      ]
     },
     "execution_count": 8,
     "metadata": {},
     "output_type": "execute_result"
    }
   ],
   "source": [
    "#set_data_ingestion\n",
    "d1.add_namespace('dataingestion', 'dataingestion.org')\n",
    "\n",
    "e4 = d1.entity('data_ingestion', (\n",
    "    ('dataingestion:dataset_id', 'Iris'),\n",
    "    ('dataingestion:output_dimensions', output_dim),\n",
    "    ('dataingestion:samples_total',  len(X)),\n",
    "    ('dataingestion:feature_dimensions', len(feature_names)),  \n",
    "))\n",
    "a12 = d1.activity('set_data_ingestion()', datetime.datetime.now())\n",
    "d1.wasGeneratedBy(e4, a12, None, {'packages:fct': 'set'})\n"
   ]
  },
  {
   "cell_type": "markdown",
   "id": "50056e00",
   "metadata": {},
   "source": [
    "### Data preparation"
   ]
  },
  {
   "cell_type": "code",
   "execution_count": 9,
   "id": "c618bbc6",
   "metadata": {},
   "outputs": [],
   "source": [
    "#Data Preperation\n",
    "# Scale data to have mean 0 and variance 1 \n",
    "# which is importance for convergence of the neural network\n",
    "scaler = StandardScaler()\n",
    "X_scaled = scaler.fit_transform(X)"
   ]
  },
  {
   "cell_type": "code",
   "execution_count": 10,
   "id": "2f48fc79-3f1a-457d-8b58-540fd6007f24",
   "metadata": {},
   "outputs": [
    {
     "data": {
      "text/plain": [
       "<ProvUsage: (set_data_preparation(), data_ingestion)>"
      ]
     },
     "execution_count": 10,
     "metadata": {},
     "output_type": "execute_result"
    }
   ],
   "source": [
    "#set_data_preparation\n",
    "d1.add_namespace('datapreparation', 'datapreparation.org')\n",
    "\n",
    "e5 = d1.entity('data_preparation', (\n",
    "    ('datapreparation:number_operations', 1),\n",
    "    ('datapreparation:transformation', 'sklearn.preprocessing.StandardScaler'),\n",
    "    ('datapreparation:transformation_method', 'Standardscaler.fit_transform'), \n",
    "))\n",
    "a13 = d1.activity('set_data_preparation()', datetime.datetime.now())\n",
    "d1.wasGeneratedBy(e5, a13, None, {'packages:fct': 'set'})\n",
    "d1.used(a13, e4)"
   ]
  },
  {
   "cell_type": "markdown",
   "id": "7c8f9c5d",
   "metadata": {},
   "source": [
    "### Data Segregation"
   ]
  },
  {
   "cell_type": "code",
   "execution_count": 11,
   "id": "61420f49",
   "metadata": {},
   "outputs": [],
   "source": [
    "# Data Segregation\n",
    "X_train, X_test, y_train, y_test = train_test_split(\n",
    "    X_scaled, y, test_size=0.2, random_state=2)"
   ]
  },
  {
   "cell_type": "code",
   "execution_count": 12,
   "id": "4b23b565-c136-477e-baab-a48ed3d9b0c0",
   "metadata": {},
   "outputs": [
    {
     "data": {
      "text/plain": [
       "<ProvUsage: (set_data_segregation(), data_preparation)>"
      ]
     },
     "execution_count": 12,
     "metadata": {},
     "output_type": "execute_result"
    }
   ],
   "source": [
    "#set_data_segregation\n",
    "\n",
    "d1.add_namespace('datasegregation', 'datasegregation.org')\n",
    "\n",
    "e6 = d1.entity('data_segregation', (\n",
    "    ('datasegregation:segregation_method', 'sklearn.model_selection.train_test_split'),\n",
    "    ('datasegregation:test_size', 0.2),\n",
    "    ('datasegregation:train_size', 1-0.2), \n",
    "    ('datasegregation:random_state', 2), \n",
    "))\n",
    "a14 = d1.activity('set_data_segregation()', datetime.datetime.now())\n",
    "d1.wasGeneratedBy(e6, a14, None, {'packages:fct': 'set'})\n",
    "d1.used(a14, e5)"
   ]
  },
  {
   "cell_type": "markdown",
   "id": "c185a9b7",
   "metadata": {},
   "source": [
    "### Data Visualization"
   ]
  },
  {
   "cell_type": "code",
   "execution_count": 13,
   "id": "6e31a3bc",
   "metadata": {},
   "outputs": [
    {
     "data": {
      "image/png": "[encoded data removed]",
      "text/plain": [
       "<Figure size 1152x432 with 2 Axes>"
      ]
     },
     "metadata": {},
     "output_type": "display_data"
    }
   ],
   "source": [
    "#Data Visualization\n",
    "fig, (ax1, ax2) = plt.subplots(1, 2, figsize=(16, 6))\n",
    "for target, target_name in enumerate(names):\n",
    "    X_plot = X[y == target]\n",
    "    ax1.plot(X_plot[:, 0], X_plot[:, 1], \n",
    "             linestyle='none', \n",
    "             marker='o', \n",
    "             label=target_name)\n",
    "ax1.set_xlabel(feature_names[0])\n",
    "ax1.set_ylabel(feature_names[1])\n",
    "ax1.axis('equal')\n",
    "ax1.legend();\n",
    "\n",
    "for target, target_name in enumerate(names):\n",
    "    X_plot = X[y == target]\n",
    "    ax2.plot(X_plot[:, 2], X_plot[:, 3], \n",
    "             linestyle='none', \n",
    "             marker='o', \n",
    "             label=target_name)\n",
    "ax2.set_xlabel(feature_names[2])\n",
    "ax2.set_ylabel(feature_names[3])\n",
    "ax2.axis('equal')\n",
    "ax2.legend();\n"
   ]
  },
  {
   "cell_type": "markdown",
   "id": "1a4bf7b7",
   "metadata": {},
   "source": [
    "### Model"
   ]
  },
  {
   "cell_type": "code",
   "execution_count": 14,
   "id": "14416258",
   "metadata": {},
   "outputs": [
    {
     "data": {
      "text/plain": [
       "Model(\n",
       "  (layer1): Linear(in_features=4, out_features=50, bias=True)\n",
       "  (layer2): Linear(in_features=50, out_features=50, bias=True)\n",
       "  (layer3): Linear(in_features=50, out_features=3, bias=True)\n",
       ")"
      ]
     },
     "execution_count": 14,
     "metadata": {},
     "output_type": "execute_result"
    }
   ],
   "source": [
    "#Use GPU?\n",
    "use_cuda = torch.cuda.is_available()\n",
    "device = torch.device(\"cuda\" if use_cuda else \"cpu\")\n",
    "\n",
    "neuron_number = 50\n",
    "\n",
    "#Configure Neural Network Models\n",
    "class Model(nn.Module):\n",
    "    def __init__(self, input_dim):\n",
    "        super(Model, self).__init__()\n",
    "        self.layer1 = nn.Linear(input_dim, 50)\n",
    "        self.layer2 = nn.Linear(50, 50)\n",
    "        self.layer3 = nn.Linear(50, output_dim)\n",
    "        \n",
    "    def forward(self, x):\n",
    "        x = F.relu(self.layer1(x))\n",
    "        x = F.relu(self.layer2(x))\n",
    "        x = F.softmax(self.layer3(x), dim=1)\n",
    "        return x\n",
    "\n",
    "model     = Model(X_train.shape[1])\n",
    "optimizer = torch.optim.Adam(model.parameters())\n",
    "loss_fn   = nn.CrossEntropyLoss()\n",
    "\n",
    "try:\n",
    "    lr\n",
    "except NameError:\n",
    "    default = 1\n",
    "    lr = None \n",
    "else:\n",
    "    default = 0\n",
    "\n",
    "model"
   ]
  },
  {
   "cell_type": "code",
   "execution_count": 15,
   "id": "0268f15c-f556-43d7-a8a4-e9ab71104966",
   "metadata": {},
   "outputs": [
    {
     "data": {
      "text/plain": [
       "<ProvUsage: (set_model_parameters(), data_ingestion)>"
      ]
     },
     "execution_count": 15,
     "metadata": {},
     "output_type": "execute_result"
    }
   ],
   "source": [
    "#set_model_parameters\n",
    "\n",
    "d1.add_namespace('modelparameters', 'modelparameters.org')\n",
    "\n",
    "e7 = d1.entity('model_parameters', (\n",
    "    ('modelparameters:gpu_enable', 1),\n",
    "    ('modelparameters:modelParameters', str(model)),\n",
    "    ('modelparameters:neuron_number', neuron_number), \n",
    "    ('modelparameters:loss_function', 'nn.CrossEntropyLoss()'), \n",
    "    ('modelparameters:optimizer', 'torch.optim.Adam('), \n",
    "    ('modelparameters:optimizer_default_learning_rate', default), \n",
    "    ('modelparameters:optimizer_learning_rate', lr), \n",
    "    ('modelparameters:activation_function', 'F.softmax(self.layer3(x), dim=1)'), \n",
    "))\n",
    "a15 = d1.activity('set_model_parameters()', datetime.datetime.now())\n",
    "d1.wasGeneratedBy(e7, a15, None, {'packages:fct': 'set'})\n",
    "d1.used(a15, e4)"
   ]
  },
  {
   "cell_type": "markdown",
   "id": "53e234b4",
   "metadata": {},
   "source": [
    "### Training"
   ]
  },
  {
   "cell_type": "code",
   "execution_count": 16,
   "id": "f3250294",
   "metadata": {},
   "outputs": [
    {
     "name": "stderr",
     "output_type": "stream",
     "text": [
      "100%|██████████████████████████████████████████████████████████████████████████████| 100/100 [00:00<00:00, 1040.73it/s]\n"
     ]
    }
   ],
   "source": [
    "#Model Training\n",
    "EPOCHS  = 100\n",
    "X_train = Variable(torch.from_numpy(X_train)).float()\n",
    "y_train = Variable(torch.from_numpy(y_train)).long()\n",
    "X_test  = Variable(torch.from_numpy(X_test)).float()\n",
    "y_test  = Variable(torch.from_numpy(y_test)).long()\n",
    "\n",
    "loss_list     = np.zeros((EPOCHS,))\n",
    "accuracy_list = np.zeros((EPOCHS,))\n",
    "\n",
    "for epoch in trange(EPOCHS):\n",
    "    y_pred = model(X_train)\n",
    "    loss = loss_fn(y_pred, y_train)\n",
    "    loss_list[epoch] = loss.item()\n",
    "    \n",
    "    # Zero gradients\n",
    "    optimizer.zero_grad()\n",
    "    loss.backward()\n",
    "    optimizer.step()\n",
    "    \n",
    "    with torch.no_grad():\n",
    "        y_pred = model(X_test)\n",
    "        correct = (torch.argmax(y_pred, dim=1) == y_test).type(torch.FloatTensor)\n",
    "        accuracy_list[epoch] = correct.mean()"
   ]
  },
  {
   "cell_type": "code",
   "execution_count": 17,
   "id": "ccccd4d6-b8c7-4956-a8ea-23a307aeeaba",
   "metadata": {},
   "outputs": [
    {
     "data": {
      "text/plain": [
       "<ProvUsage: (set_training(), data_preparation)>"
      ]
     },
     "execution_count": 17,
     "metadata": {},
     "output_type": "execute_result"
    }
   ],
   "source": [
    "#set_training\n",
    "\n",
    "d1.add_namespace('training', 'training.org')\n",
    "\n",
    "e8 = d1.entity('training', (\n",
    "    ('training:epochs', EPOCHS),\n",
    "    ('training:numberOfParameters', hierarchical_summary(model, print_summary = False)[1]),\n",
    "))\n",
    "a16 = d1.activity('set_training()', datetime.datetime.now())\n",
    "a17 = d1.activity('hierarchical_summary(model, print_summary = False)[1]')\n",
    "d1.wasGeneratedBy(e8, a16, None, {'packages:fct': 'set'})\n",
    "d1.wasInformedBy(a16, a17)\n",
    "d1.used(a16, e7)\n",
    "d1.used(a16, e5)"
   ]
  },
  {
   "cell_type": "markdown",
   "id": "99159b81",
   "metadata": {},
   "source": [
    "### Evaluation"
   ]
  },
  {
   "cell_type": "code",
   "execution_count": 18,
   "id": "4f2544a7",
   "metadata": {},
   "outputs": [
    {
     "data": {
      "image/png": "[encoded data removed]",
      "text/plain": [
       "<Figure size 864x432 with 2 Axes>"
      ]
     },
     "metadata": {},
     "output_type": "display_data"
    }
   ],
   "source": [
    "#Plot Accuracy and Loss from Training\n",
    "fig, (ax1, ax2) = plt.subplots(2, figsize=(12, 6), sharex=True)\n",
    "\n",
    "ax1.plot(accuracy_list)\n",
    "ax1.set_ylabel(\"validation accuracy\")\n",
    "ax2.plot(loss_list)\n",
    "ax2.set_ylabel(\"validation loss\")\n",
    "ax2.set_xlabel(\"epochs\");"
   ]
  },
  {
   "cell_type": "markdown",
   "id": "e7ff49dc",
   "metadata": {},
   "source": [
    "### Confusion Matrix"
   ]
  },
  {
   "cell_type": "code",
   "execution_count": 19,
   "id": "3462a41f",
   "metadata": {},
   "outputs": [
    {
     "data": {
      "text/plain": [
       "array([[13,  1,  0],\n",
       "       [ 0,  7,  1],\n",
       "       [ 0,  0,  8]], dtype=int64)"
      ]
     },
     "execution_count": 19,
     "metadata": {},
     "output_type": "execute_result"
    }
   ],
   "source": [
    "confusionMatrix = confusion_matrix(y_test, torch.argmax(y_pred, dim=1))\n",
    "confusionMatrix"
   ]
  },
  {
   "cell_type": "markdown",
   "id": "7976450d",
   "metadata": {},
   "source": [
    "### F1 Score"
   ]
  },
  {
   "cell_type": "code",
   "execution_count": 20,
   "id": "4ce9dfef",
   "metadata": {},
   "outputs": [
    {
     "data": {
      "text/plain": [
       "array([0.96296296, 0.875     , 0.94117647])"
      ]
     },
     "execution_count": 20,
     "metadata": {},
     "output_type": "execute_result"
    }
   ],
   "source": [
    "F1 = f1_score(y_test, torch.argmax(y_pred, dim=1), average=None)\n",
    "F1"
   ]
  },
  {
   "cell_type": "markdown",
   "id": "dd55df14",
   "metadata": {},
   "source": [
    "### Mean Absolute Error & Mean Squared Error"
   ]
  },
  {
   "cell_type": "code",
   "execution_count": 21,
   "id": "99d526a6",
   "metadata": {},
   "outputs": [
    {
     "name": "stdout",
     "output_type": "stream",
     "text": [
      "0.06666666666666667\n",
      "0.06666666666666667\n"
     ]
    }
   ],
   "source": [
    "MAE = mean_absolute_error(y_test, torch.argmax(y_pred, dim=1), multioutput='uniform_average')\n",
    "MSE = mean_squared_error(y_test, torch.argmax(y_pred, dim=1), multioutput='uniform_average')\n",
    "print(MAE)\n",
    "print(MSE)"
   ]
  },
  {
   "cell_type": "markdown",
   "id": "cb509d6f",
   "metadata": {},
   "source": [
    "### ROC"
   ]
  },
  {
   "cell_type": "code",
   "execution_count": 22,
   "id": "22dee38e",
   "metadata": {},
   "outputs": [
    {
     "data": {
      "image/png": "[encoded data removed]",
      "text/plain": [
       "<Figure size 720x720 with 1 Axes>"
      ]
     },
     "metadata": {},
     "output_type": "display_data"
    }
   ],
   "source": [
    "#ROC Curve \n",
    "plt.figure(figsize=(10, 10))\n",
    "plt.plot([0, 1], [0, 1], 'k--')\n",
    "\n",
    "# One hot encoding\n",
    "enc = OneHotEncoder()\n",
    "Y_onehot = enc.fit_transform(y_test[:, np.newaxis]).toarray()\n",
    "\n",
    "with torch.no_grad():\n",
    "    y_pred = model(X_test).numpy()\n",
    "    fpr, tpr, threshold = roc_curve(Y_onehot.ravel(), y_pred.ravel())\n",
    "    \n",
    "plt.plot(fpr, tpr, label='AUC = {:.3f}'.format(auc(fpr, tpr)))\n",
    "AUC = '{:.5f}'.format(auc(fpr, tpr))\n",
    "plt.xlabel('False positive rate')\n",
    "plt.ylabel('True positive rate')\n",
    "plt.title('ROC curve')\n",
    "plt.legend();"
   ]
  },
  {
   "cell_type": "code",
   "execution_count": 23,
   "id": "8795abcd-6321-478a-ab24-41194b55dfc9",
   "metadata": {},
   "outputs": [
    {
     "data": {
      "text/plain": [
       "<ProvUsage: (set_evaluation(), training)>"
      ]
     },
     "execution_count": 23,
     "metadata": {},
     "output_type": "execute_result"
    }
   ],
   "source": [
    "#set_evaluation\n",
    "\n",
    "d1.add_namespace('evaluation', 'evaluation.org')\n",
    "\n",
    "e9 = d1.entity('evaluation', (\n",
    "    ('evaluation:Accuracy', accuracy_list[(len(accuracy_list)-1)]),\n",
    "    ('evaluation:Loss', loss_list[(len(loss_list)-1)]),\n",
    "    ('evaluation:Confusion Matrix', str(confusionMatrix)),\n",
    "    ('evaluation:AUC', float(AUC)),\n",
    "    ('evaluation:F1 Score', str(F1)),\n",
    "    ('evaluation:Mean Absolute Error', MAE),\n",
    "    ('evaluation:Mean Squared Error', MSE),\n",
    "))\n",
    "a17 = d1.activity('set_evaluation()', datetime.datetime.now())\n",
    "d1.wasGeneratedBy(e9, a17, None, {'packages:fct': 'set'})\n",
    "d1.used(a17, e8)"
   ]
  },
  {
   "cell_type": "markdown",
   "id": "a7d8aaee",
   "metadata": {},
   "source": [
    "### Generate Provenance Data"
   ]
  },
  {
   "cell_type": "code",
   "execution_count": 24,
   "id": "18fd63f9",
   "metadata": {},
   "outputs": [
    {
     "data": {
      "application/vnd.jupyter.widget-view+json": {
       "model_id": "fb964f94d6ec4b248b4315afebeb4b2c",
       "version_major": 2,
       "version_minor": 0
      },
      "text/plain": [
       "Button(description='Open Image File', style=ButtonStyle())"
      ]
     },
     "metadata": {},
     "output_type": "display_data"
    }
   ],
   "source": [
    "#print(d1.serialize(indent=2))\n",
    "import os\n",
    "os.environ[\"PATH\"] += os.pathsep + 'C:/Program Files (x86)/Graphviz2.38/bin/'\n",
    "# visualize the graph\n",
    "from prov.dot import prov_to_dot\n",
    "\n",
    "timestring = time.strftime('%Y%m%d-%H%M%S')\n",
    "timestring\n",
    "ProvenanceNameImage = ('Provenance_MulticlassClassification_' + timestring + '.png')\n",
    "dot = prov_to_dot(d1)\n",
    "dot.write_png('../GeneratedProvenanceData/'+ProvenanceNameImage)\n",
    "from IPython.display import Image\n",
    "Image(ProvenanceNameImage)\n",
    "\n",
    "provenanceImage_open = widgets.Button(description = 'Open Image File')\n",
    "display(provenanceImage_open)\n",
    "\n",
    "def on_button_clicked(b):\n",
    "    provenanceImage_open.on_click = webbrowser.open('http://localhost:8888/lab/tree/GeneratedProvenanceData/'+ProvenanceNameImage)\n",
    "\n",
    "provenanceImage_open.on_click(on_button_clicked)"
   ]
  },
  {
   "cell_type": "markdown",
   "id": "c5d246f0",
   "metadata": {},
   "source": [
    "### Write Provenance Data"
   ]
  },
  {
   "cell_type": "code",
   "execution_count": 25,
   "id": "3c223b21",
   "metadata": {},
   "outputs": [],
   "source": [
    "ProvenanceName = ('Provenance_MulticlassClassification_' + timestring + '.json')\n",
    "\n",
    "with open('../GeneratedProvenanceData/'+ProvenanceName, 'w') as prov_file:\n",
    "    prov_file.write(d1.serialize(indent=2))"
   ]
  },
  {
   "cell_type": "markdown",
   "id": "1701e20a",
   "metadata": {},
   "source": [
    "### Show Provenance Data"
   ]
  },
  {
   "cell_type": "code",
   "execution_count": 26,
   "id": "aaae869e",
   "metadata": {},
   "outputs": [
    {
     "data": {
      "application/vnd.jupyter.widget-view+json": {
       "model_id": "d808dd1079724fb6a20f48da2599316e",
       "version_major": 2,
       "version_minor": 0
      },
      "text/plain": [
       "Button(description='Open Provenance Data File', style=ButtonStyle())"
      ]
     },
     "metadata": {},
     "output_type": "display_data"
    }
   ],
   "source": [
    "provenance_open = widgets.Button(description = 'Open Provenance Data File')\n",
    "display(provenance_open)\n",
    "\n",
    "def on_button_clicked(b):\n",
    "    provenance_open.on_click = webbrowser.open('http://localhost:8888/lab/tree/GeneratedProvenanceData/'+ProvenanceName)\n",
    "\n",
    "provenance_open.on_click(on_button_clicked)"
   ]
  }
 ],
 "metadata": {
  "kernelspec": {
   "display_name": "Python 3 (ipykernel)",
   "language": "python",
   "name": "python3"
  },
  "language_info": {
   "codemirror_mode": {
    "name": "ipython",
    "version": 3
   },
   "file_extension": ".py",
   "mimetype": "text/x-python",
   "name": "python",
   "nbconvert_exporter": "python",
   "pygments_lexer": "ipython3",
   "version": "3.9.7"
  }
 },
 "nbformat": 4,
 "nbformat_minor": 5
}
