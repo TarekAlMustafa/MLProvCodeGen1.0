{
 "cells": [
  {
   "cell_type": "code",
   "execution_count": 1,
   "id": "116fb35b-7ec2-41d3-bc75-5114280a99b9",
   "metadata": {},
   "outputs": [],
   "source": [
    "#!pip install gputil===1.4.0"
   ]
  },
  {
   "cell_type": "code",
   "execution_count": 2,
   "id": "3db8d450-b563-41cb-b18a-5ff8b7b4f4ec",
   "metadata": {},
   "outputs": [],
   "source": [
    "import GPUtil"
   ]
  },
  {
   "cell_type": "code",
   "execution_count": 3,
   "id": "6f5ec863-c7a6-4de2-8128-749e25578131",
   "metadata": {},
   "outputs": [],
   "source": [
    "GPUs = GPUtil.getGPUs()"
   ]
  },
  {
   "cell_type": "code",
   "execution_count": 4,
   "id": "59c13ccd-5907-4935-b52d-a964393b687b",
   "metadata": {},
   "outputs": [],
   "source": [
    "gpuList = []\n",
    "for gpu in GPUs:\n",
    "    gpu_id = gpu.id\n",
    "    gpu_name = gpu.name\n",
    "    gpuList.append((gpu_id , gpu_name))"
   ]
  },
  {
   "cell_type": "code",
   "execution_count": 5,
   "id": "527cc2b3-fce4-4f11-a008-57bc7e755959",
   "metadata": {},
   "outputs": [
    {
     "data": {
      "text/plain": [
       "[(0, 'NVIDIA GeForce GTX 1060 6GB')]"
      ]
     },
     "execution_count": 5,
     "metadata": {},
     "output_type": "execute_result"
    }
   ],
   "source": [
    "gpuList\n"
   ]
  },
  {
   "cell_type": "code",
   "execution_count": 6,
   "id": "b0004134-4885-448d-906b-5c223342eeaf",
   "metadata": {},
   "outputs": [],
   "source": [
    "#!pip install psutil===5.9.0\n",
    "#!pip install py-cpuinfo===8.0.0"
   ]
  },
  {
   "cell_type": "code",
   "execution_count": 7,
   "id": "cbe6ec48-aa23-40be-9e3c-dead447c834f",
   "metadata": {},
   "outputs": [],
   "source": [
    "import psutil\n",
    "import platform\n",
    "import cpuinfo"
   ]
  },
  {
   "cell_type": "code",
   "execution_count": 8,
   "id": "260d8dcf-c550-4734-b60b-11c4a54eb943",
   "metadata": {},
   "outputs": [
    {
     "data": {
      "text/plain": [
       "'AMD64 Family 23 Model 113 Stepping 0, AuthenticAMD'"
      ]
     },
     "execution_count": 8,
     "metadata": {},
     "output_type": "execute_result"
    }
   ],
   "source": [
    "platform.processor()"
   ]
  },
  {
   "cell_type": "code",
   "execution_count": 9,
   "id": "68c3335e-6809-4989-8284-bf7757110bcc",
   "metadata": {},
   "outputs": [
    {
     "data": {
      "text/plain": [
       "'AMD Ryzen 7 3700X 8-Core Processor'"
      ]
     },
     "execution_count": 9,
     "metadata": {},
     "output_type": "execute_result"
    }
   ],
   "source": [
    "cpuinfo.get_cpu_info()['brand_raw']\n"
   ]
  },
  {
   "cell_type": "code",
   "execution_count": 10,
   "id": "b93031ed-0056-4bb2-b785-9f842de7676c",
   "metadata": {},
   "outputs": [
    {
     "data": {
      "text/plain": [
       "'3.9.7.final.0 (64 bit)'"
      ]
     },
     "execution_count": 10,
     "metadata": {},
     "output_type": "execute_result"
    }
   ],
   "source": [
    "cpuinfo.get_cpu_info()['python_version']"
   ]
  },
  {
   "cell_type": "code",
   "execution_count": 11,
   "id": "c4278452-774e-4fbd-aa46-85d3be71f5c9",
   "metadata": {},
   "outputs": [],
   "source": [
    "def get_size(bytes, suffix=\"B\"):\n",
    "    \"\"\"\n",
    "    Scale bytes to its proper format\n",
    "    e.g:\n",
    "        1253656 => '1.20MB'\n",
    "        1253656678 => '1.17GB'\n",
    "    \"\"\"\n",
    "    factor = 1024\n",
    "    for unit in [\"\", \"K\", \"M\", \"G\", \"T\", \"P\"]:\n",
    "        if bytes < factor:\n",
    "            return f\"{bytes:.2f}{unit}{suffix}\"\n",
    "        bytes /= factor"
   ]
  },
  {
   "cell_type": "code",
   "execution_count": 12,
   "id": "a74b90e6-2145-4929-998c-32c6da5631b6",
   "metadata": {},
   "outputs": [
    {
     "data": {
      "text/plain": [
       "'15.95GB'"
      ]
     },
     "execution_count": 12,
     "metadata": {},
     "output_type": "execute_result"
    }
   ],
   "source": [
    "svmem = psutil.virtual_memory()\n",
    "get_size(svmem.total)"
   ]
  },
  {
   "cell_type": "code",
   "execution_count": 13,
   "id": "6b3f227a-9745-4c95-bbc9-0151bfb330a7",
   "metadata": {},
   "outputs": [
    {
     "data": {
      "text/plain": [
       "'Windows 10 Version: 10.0.19041 Machine: AMD64'"
      ]
     },
     "execution_count": 13,
     "metadata": {},
     "output_type": "execute_result"
    }
   ],
   "source": [
    "uname = platform.uname()\n",
    "sysInfo = str(uname.system +' '+ uname.release +' Version: '+ uname.version +' Machine: '+ uname.machine)\n",
    "sysInfo"
   ]
  },
  {
   "cell_type": "code",
   "execution_count": 14,
   "id": "a2cf733c-54e4-449a-abb2-0cd9ae334d2f",
   "metadata": {},
   "outputs": [],
   "source": []
  },
  {
   "cell_type": "code",
   "execution_count": 15,
   "id": "e0cfa812-9006-43a3-9de0-456569db9e2b",
   "metadata": {},
   "outputs": [
    {
     "name": "stdout",
     "output_type": "stream",
     "text": [
      "=== Device: C:\\ ===\n",
      "  Mountpoint: C:\\\n",
      "  File system type: NTFS\n",
      "=== Device: D:\\ ===\n",
      "  Mountpoint: D:\\\n",
      "  File system type: NTFS\n",
      "=== Device: E:\\ ===\n",
      "  Mountpoint: E:\\\n",
      "  File system type: NTFS\n"
     ]
    }
   ],
   "source": []
  }
 ],
 "metadata": {
  "kernelspec": {
   "display_name": "Python 3 (ipykernel)",
   "language": "python",
   "name": "python3"
  },
  "language_info": {
   "codemirror_mode": {
    "name": "ipython",
    "version": 3
   },
   "file_extension": ".py",
   "mimetype": "text/x-python",
   "name": "python",
   "nbconvert_exporter": "python",
   "pygments_lexer": "ipython3",
   "version": "3.9.7"
  }
 },
 "nbformat": 4,
 "nbformat_minor": 5
}
