{
 "cells": [
  {
   "cell_type": "markdown",
   "id": "aaf57231",
   "metadata": {},
   "source": [
    "\n",
    "# Image Classification\n",
    "\n",
    "Building a machine learning model to solve Image Classification using the PyTorch framework.<br>\n",
    "Image Classification is one of the basic pattern recognition exercises. <br>\n",
    "Using Image files as its input, a model trained for Image classification will split a set of images into a given number of classes. <br>\n",
    "<br>\n",
    "This Notebook has been generated automatically using the JupyterLab extension ***MLProvCodeGen***.\n",
    "<br>\n",
    "The original Source Code is from this application https://github.com/jrieke/traingenerator <br>\n",
    "Made by: https://www.jrieke.com/ Twitter: https://twitter.com/jrieke\n"
   ]
  },
  {
   "cell_type": "markdown",
   "id": "e95bbe76",
   "metadata": {},
   "source": [
    "### Installs\n",
    "Install required packages before running"
   ]
  },
  {
   "cell_type": "code",
   "execution_count": 1,
   "id": "989e1161",
   "metadata": {},
   "outputs": [],
   "source": [
    "#pip install numpy===1.22.2 ipywidgets===7.6.5 torch===1.10.2 torchvision===0.11.3 pytorch-ignite===0.4.6 gputil===1.4.0 psutil===5.9.0 py-cpuinfo===8.0.0 --user\n",
    "#torch currently not supported with python 3.10, downgrading to python 3.9.7 possibly required\n"
   ]
  },
  {
   "cell_type": "markdown",
   "id": "009f394c",
   "metadata": {},
   "source": [
    "### Imports"
   ]
  },
  {
   "cell_type": "code",
   "execution_count": 2,
   "id": "47107469",
   "metadata": {},
   "outputs": [],
   "source": [
    "import numpy as np\n",
    "import torch\n",
    "import ipywidgets as widgets\n",
    "from torch import optim, nn\n",
    "from torch.utils.data import DataLoader, TensorDataset\n",
    "import torchvision as torchvision\n",
    "from torchvision import models, datasets, transforms\n",
    "import ignite as pytorch_ignite\n",
    "from ignite.engine import Events, create_supervised_trainer, create_supervised_evaluator\n",
    "from ignite.metrics import Accuracy, Loss\n",
    "import GPUtil\n",
    "import psutil\n",
    "import cpuinfo\n",
    "import platform\n",
    "from datetime import date\n",
    "import time"
   ]
  },
  {
   "cell_type": "markdown",
   "id": "0302b7f8",
   "metadata": {},
   "source": [
    "### Provenance Data"
   ]
  },
  {
   "cell_type": "code",
   "execution_count": 3,
   "id": "ad55c427",
   "metadata": {},
   "outputs": [
    {
     "name": "stdout",
     "output_type": "stream",
     "text": [
      "{'author': 'Tarek Al Mustafa', 'email': 'tarek.almustafa@uni-jena.de', 'title': 'Image Classification', 'creation_date': '2022-03-21', 'task_type': 'Image Classification Pytorch'}\n",
      "{'Python Version': '3.9.7.final.0 (64 bit)', 'CPU': 'AMD Ryzen 7 3700X 8-Core Processor', 'RAM': '15.95GB', 'Operating System': 'Windows 10 Version: 10.0.19041 Machine: AMD64', 'GPUs': \"[(0, 'NVIDIA GeForce GTX 1060 6GB')]\"}\n",
      "{'numpy': '1.22.2', 'ipywidgets': '7.6.5', 'torch': '1.10.2+cpu', 'torchvision': '0.11.3+cpu', 'pytorch-ignite': '0.4.6', 'gputil': '1.4.0', 'psutil': '5.9.0', 'py-cpuinfo': 'py-cpuinfo                    8.0.0'}\n"
     ]
    }
   ],
   "source": [
    "def get_size(bytes, suffix=\"B\"):\n",
    "    \"\"\"\n",
    "    Scale bytes to its proper format\n",
    "    e.g:\n",
    "        1253656 => '1.20MB'\n",
    "        1253656678 => '1.17GB'\n",
    "    \"\"\"\n",
    "    factor = 1024\n",
    "    for unit in [\"\", \"K\", \"M\", \"G\", \"T\", \"P\"]:\n",
    "        if bytes < factor:\n",
    "            return f\"{bytes:.2f}{unit}{suffix}\"\n",
    "        bytes /= factor\n",
    "\n",
    "def set_experiment_info() :\n",
    "    created_by = \"Tarek Al Mustafa\"\n",
    "    email = \"tarek.almustafa@uni-jena.de\"\n",
    "    title = \"Image Classification\"\n",
    "    task_type = \"Image Classification Pytorch\"\n",
    "    creation_date = str(date.today())\n",
    "    \n",
    "    experiment_info = { \n",
    "            'author': created_by,\n",
    "            'email': email,\n",
    "            'title': title,\n",
    "            'creation_date': creation_date,\n",
    "            'task_type': task_type}\n",
    "    \n",
    "    return experiment_info\n",
    "\n",
    "def set_hardware_info():\n",
    "    uname = platform.uname()\n",
    "    sysInfo = str(uname.system +' '+ uname.release +' Version: '+ uname.version +' Machine: '+ uname.machine)\n",
    "    \n",
    "    svmem = psutil.virtual_memory()\n",
    "\n",
    "    GPUs = GPUtil.getGPUs()\n",
    "    gpuList = []\n",
    "    for gpu in GPUs:\n",
    "        gpu_id = gpu.id\n",
    "        gpu_name = gpu.name\n",
    "        gpuList.append((gpu_id , gpu_name))\n",
    "\n",
    "    hardware_info = {\n",
    "        \"Python Version\": cpuinfo.get_cpu_info()['python_version'],\n",
    "        \"CPU\": cpuinfo.get_cpu_info()['brand_raw'],\n",
    "        \"RAM\": get_size(svmem.total),\n",
    "        \"Operating System\": sysInfo,\n",
    "        \"GPUs\": str(gpuList) }\n",
    "    \n",
    "    return hardware_info\n",
    "\n",
    "def set_packages():\n",
    "    cpuInfo_version = !pip list | grep -i py-cpuinfo\n",
    "    pytorch_model_summary_version = !pip list | grep -i pytorch-model-summary\n",
    "    packages = {\n",
    "        \"numpy\" : np.__version__,\n",
    "        \"ipywidgets\" : widgets.__version__,\n",
    "        \"torch\" : torch.__version__,\n",
    "        \"torchvision\" : torchvision.__version__,\n",
    "        \"pytorch-ignite\" : pytorch_ignite.__version__,\n",
    "        \"gputil\" : GPUtil.__version__, \n",
    "        \"psutil\" : psutil.__version__,\n",
    "        \"py-cpuinfo\" : cpuInfo_version[0]}\n",
    "\n",
    "    return packages\n",
    "\n",
    "print(set_experiment_info())\n",
    "print(set_hardware_info())\n",
    "print(set_packages())"
   ]
  },
  {
   "cell_type": "markdown",
   "id": "a41b1a44",
   "metadata": {},
   "source": [
    "### Setup"
   ]
  },
  {
   "cell_type": "code",
   "execution_count": 4,
   "id": "63d55ae0",
   "metadata": {},
   "outputs": [],
   "source": [
    "# Dataset  will be loaded further down.\n",
    "\n",
    "# Set up hyperparameters.\n",
    "lr = 0.001\n",
    "batch_size = 128\n",
    "num_epochs = 3\n",
    "\n",
    "# Set up logging.\n",
    "print_every = 1  # batches\n",
    "\n",
    "# Set up device.\n",
    "use_cuda = torch.cuda.is_available()\n",
    "device = torch.device(\"cuda\" if use_cuda else \"cpu\")"
   ]
  },
  {
   "cell_type": "markdown",
   "id": "a66cdfe1",
   "metadata": {},
   "source": [
    "### Data Ingestion"
   ]
  },
  {
   "cell_type": "code",
   "execution_count": 5,
   "id": "a5acc4ac",
   "metadata": {},
   "outputs": [],
   "source": [
    "dataset = getattr(datasets, 'MNIST')\n"
   ]
  },
  {
   "cell_type": "markdown",
   "id": "f016e191",
   "metadata": {},
   "source": [
    "### Data Preperation"
   ]
  },
  {
   "cell_type": "code",
   "execution_count": 6,
   "id": "29c4cb02",
   "metadata": {},
   "outputs": [],
   "source": [
    "transform = transforms.Compose([\n",
    "    transforms.Resize(256), \n",
    "    transforms.CenterCrop(224), \n",
    "    transforms.ToTensor(), \n",
    "    transforms.Lambda(lambda x: x.repeat(3, 1, 1)),  # grayscale to RGB\n",
    "])\n"
   ]
  },
  {
   "cell_type": "markdown",
   "id": "ded4de7b",
   "metadata": {},
   "source": [
    "### Data Segregation"
   ]
  },
  {
   "cell_type": "code",
   "execution_count": 9,
   "id": "67f637c2",
   "metadata": {},
   "outputs": [
    {
     "name": "stdout",
     "output_type": "stream",
     "text": [
      "<bound method MNIST.__len__ of Dataset MNIST\n",
      "    Number of datapoints: 60000\n",
      "    Root location: ./data\n",
      "    Split: Train\n",
      "    StandardTransform\n",
      "Transform: Compose(\n",
      "               Resize(size=256, interpolation=bilinear, max_size=None, antialias=None)\n",
      "               CenterCrop(size=(224, 224))\n",
      "               ToTensor()\n",
      "               Lambda()\n",
      "           )>\n",
      "<bound method MNIST.__len__ of Dataset MNIST\n",
      "    Number of datapoints: 10000\n",
      "    Root location: ./data\n",
      "    Split: Test\n",
      "    StandardTransform\n",
      "Transform: Compose(\n",
      "               Resize(size=256, interpolation=bilinear, max_size=None, antialias=None)\n",
      "               CenterCrop(size=(224, 224))\n",
      "               ToTensor()\n",
      "               Lambda()\n",
      "           )>\n"
     ]
    },
    {
     "data": {
      "text/plain": [
       "{'dataset_id': 'MNIST',\n",
       " 'feature_classes': 10,\n",
       " 'training_samples': 60000,\n",
       " 'testing_samples': 10000,\n",
       " 'root_location': '    Root location: ./data',\n",
       " 'preprocessing': ['    StandardTransform',\n",
       "  'Transform: Compose(',\n",
       "  '               Resize(size=256, interpolation=bilinear, max_size=None, antialias=None)',\n",
       "  '               CenterCrop(size=(224, 224))',\n",
       "  '               ToTensor()',\n",
       "  '               Lambda()',\n",
       "  '           )>']}"
      ]
     },
     "execution_count": 9,
     "metadata": {},
     "output_type": "execute_result"
    }
   ],
   "source": [
    "# Wrap in data loader.\n",
    "training_dataset = dataset(\"./data\", train=True, download=True, transform=transform)\n",
    "#training_dataset = datasets.MNIST(\"./data\", train=True, download=True, transform=transform)\n",
    "testing_dataset = dataset(\"./data\", train=False, download=True, transform=transform)\n",
    "\n",
    "if use_cuda:\n",
    "    kwargs = {\"pin_memory\": True, \"num_workers\": 1}\n",
    "else:\n",
    "    kwargs = {}\n",
    "\n",
    "train_loader = DataLoader(training_dataset, batch_size=batch_size, shuffle=True, **kwargs)\n",
    "test_loader = DataLoader(testing_dataset, batch_size=batch_size, shuffle=False, **kwargs)\n",
    "val_loader = None\n",
    "\n",
    "print(training_dataset.__len__)    \n",
    "print(testing_dataset.__len__)\n",
    "\n",
    "def set_data_ingestion():\n",
    "    dataInfo = training_dataset.__len__\n",
    "    root_location =  str(dataInfo).splitlines()[2]\n",
    "    transform_method = str(dataInfo).splitlines()[4:11]\n",
    "    data_ingestion = {\n",
    "        \"dataset_id\" : 'MNIST',\n",
    "        \"feature_classes\" : 10,\n",
    "        \"training_samples\" : training_dataset.__len__(),\n",
    "        \"testing_samples\" : testing_dataset.__len__(),\n",
    "        \"root_location\" : root_location,\n",
    "        \"preprocessing\" : transform_method}\n",
    "    \n",
    "    return data_ingestion\n",
    "set_data_ingestion()"
   ]
  },
  {
   "cell_type": "markdown",
   "id": "4b893936",
   "metadata": {},
   "source": [
    "### Model"
   ]
  },
  {
   "cell_type": "code",
   "execution_count": 8,
   "id": "7d3741c2",
   "metadata": {},
   "outputs": [
    {
     "ename": "TypeError",
     "evalue": "__init__() got an unexpected keyword argument 'pretrained'",
     "output_type": "error",
     "traceback": [
      "\u001b[1;31m---------------------------------------------------------------------------\u001b[0m",
      "\u001b[1;31mTypeError\u001b[0m                                 Traceback (most recent call last)",
      "\u001b[1;32m~\\AppData\\Local\\Temp/ipykernel_3092/2710720858.py\u001b[0m in \u001b[0;36m<module>\u001b[1;34m\u001b[0m\n\u001b[0;32m      1\u001b[0m \u001b[1;31m# Set up model, loss, optimizer.\u001b[0m\u001b[1;33m\u001b[0m\u001b[1;33m\u001b[0m\u001b[0m\n\u001b[1;32m----> 2\u001b[1;33m \u001b[0mmodel\u001b[0m \u001b[1;33m=\u001b[0m \u001b[0mmodels\u001b[0m\u001b[1;33m.\u001b[0m\u001b[0mAlexNet\u001b[0m\u001b[1;33m(\u001b[0m\u001b[0mpretrained\u001b[0m\u001b[1;33m=\u001b[0m\u001b[1;36m0\u001b[0m\u001b[1;33m)\u001b[0m\u001b[1;33m\u001b[0m\u001b[1;33m\u001b[0m\u001b[0m\n\u001b[0m\u001b[0;32m      3\u001b[0m \u001b[0mnum_classes\u001b[0m \u001b[1;33m=\u001b[0m \u001b[1;36m1000\u001b[0m\u001b[1;33m\u001b[0m\u001b[1;33m\u001b[0m\u001b[0m\n\u001b[0;32m      4\u001b[0m \u001b[0mmodel\u001b[0m \u001b[1;33m=\u001b[0m \u001b[0mmodel\u001b[0m\u001b[1;33m.\u001b[0m\u001b[0mto\u001b[0m\u001b[1;33m(\u001b[0m\u001b[0mdevice\u001b[0m\u001b[1;33m)\u001b[0m\u001b[1;33m\u001b[0m\u001b[1;33m\u001b[0m\u001b[0m\n\u001b[0;32m      5\u001b[0m \u001b[0mloss_func\u001b[0m \u001b[1;33m=\u001b[0m \u001b[0mnn\u001b[0m\u001b[1;33m.\u001b[0m\u001b[0mCrossEntropyLoss\u001b[0m\u001b[1;33m(\u001b[0m\u001b[1;33m)\u001b[0m\u001b[1;33m\u001b[0m\u001b[1;33m\u001b[0m\u001b[0m\n",
      "\u001b[1;31mTypeError\u001b[0m: __init__() got an unexpected keyword argument 'pretrained'"
     ]
    }
   ],
   "source": [
    "# Set up model, loss, optimizer.\n",
    "model = models.AlexNet(pretrained=0)\n",
    "num_classes = 1000\n",
    "model = model.to(device)\n",
    "loss_func = nn.CrossEntropyLoss()\n",
    "optimizer = optim.Adam(model.parameters(), lr=lr)\n",
    "\n"
   ]
  },
  {
   "cell_type": "markdown",
   "id": "cc8559e6",
   "metadata": {},
   "source": [
    "### Training"
   ]
  },
  {
   "cell_type": "code",
   "execution_count": null,
   "id": "11c857a3",
   "metadata": {},
   "outputs": [],
   "source": [
    "# Set up pytorch-ignite trainer and evaluator.\n",
    "trainer = create_supervised_trainer(\n",
    "    model,\n",
    "    optimizer,\n",
    "    loss_func,\n",
    "    device=device,\n",
    ")\n",
    "metrics = {\n",
    "    \"accuracy\": Accuracy(),\n",
    "    \"loss\": Loss(loss_func),\n",
    "}\n",
    "evaluator = create_supervised_evaluator(\n",
    "    model, metrics=metrics, device=device\n",
    ")\n",
    "\n",
    "@trainer.on(Events.ITERATION_COMPLETED(every=print_every))\n",
    "def log_batch(trainer):\n",
    "    batch = (trainer.state.iteration - 1) % trainer.state.epoch_length + 1\n",
    "    print(\n",
    "        f\"Epoch {trainer.state.epoch} / {num_epochs}, \"\n",
    "        f\"batch {batch} / {trainer.state.epoch_length}: \"\n",
    "        f\"loss: {trainer.state.output:.3f}\"\n",
    "    )\n",
    "\n",
    "@trainer.on(Events.EPOCH_COMPLETED)\n",
    "def log_epoch(trainer):\n",
    "    print(f\"Epoch {trainer.state.epoch} / {num_epochs} average results: \")\n",
    "\n",
    "    def log_results(name, metrics, epoch):\n",
    "        print(\n",
    "            f\"{name + ':':6} loss: {metrics['loss']:.3f}, \"\n",
    "            f\"accuracy: {metrics['accuracy']:.3f}\"\n",
    "        )\n",
    "\n",
    "    # Train data.\n",
    "    evaluator.run(train_loader)\n",
    "    log_results(\"train\", evaluator.state.metrics, trainer.state.epoch)\n",
    "    \n",
    "    # Val data.\n",
    "    if val_loader:\n",
    "        evaluator.run(val_loader)\n",
    "        log_results(\"val\", evaluator.state.metrics, trainer.state.epoch)\n",
    "\n",
    "    # Test data.\n",
    "    if test_loader:\n",
    "        evaluator.run(test_loader)\n",
    "        log_results(\"test\", evaluator.state.metrics, trainer.state.epoch)\n",
    "\n",
    "    print()\n",
    "    print(\"-\" * 80)\n",
    "    print()\n",
    "\n",
    "# Start training.\n",
    "trainer.run(train_loader, max_epochs=num_epochs)\n"
   ]
  },
  {
   "cell_type": "markdown",
   "id": "8e7125ad",
   "metadata": {},
   "source": [
    "### Generate Provenance Data"
   ]
  },
  {
   "cell_type": "code",
   "execution_count": null,
   "id": "da3c2fad",
   "metadata": {},
   "outputs": [],
   "source": [
    "set_experiment_info()\n",
    "set_hardware_info()\n",
    "set_packages()\n",
    "set_data_ingestion()\n",
    "set_data_preparation()\n",
    "set_data_segregation()\n",
    "set_model_parameters()\n",
    "set_training()\n",
    "set_evaluation()"
   ]
  },
  {
   "cell_type": "markdown",
   "id": "309dbcca",
   "metadata": {},
   "source": [
    "### Write Provenance Data"
   ]
  },
  {
   "cell_type": "code",
   "execution_count": null,
   "id": "74d61709",
   "metadata": {},
   "outputs": [],
   "source": [
    "timestring = time.strftime('%Y%m%d-%H%M%S')\n",
    "timestring\n",
    "ProvenanceName = ('Provenance_MulticlassClassification_' + timestring + '.json')\n",
    "\n",
    "with open('../GeneratedProvenanceData/'+ProvenanceName, 'w') as prov_file:\n",
    "    prov_file.write('{' + '\\n  ')\n",
    "    prov_file.write('\"experiment_info\":' + json.dumps(set_experiment_info(),sort_keys=False, indent=4) +',' + '\\n\\n' )\n",
    "    prov_file.write('\"hardware_info\":' + json.dumps(set_hardware_info(),sort_keys=False, indent=4) +',' + '\\n\\n' )\n",
    "    prov_file.write('\"packages\":' + json.dumps(set_packages(),sort_keys=False, indent=4) +',' + '\\n\\n' )\n",
    "    prov_file.write('\"data_ingestion\":' + json.dumps(set_data_ingestion(),sort_keys=False, indent=4) +',' + '\\n\\n' )\n",
    "    prov_file.write('\"data_preparation\":' + json.dumps(set_data_preparation(),sort_keys=False, indent=4) +',' + '\\n\\n' )\n",
    "    prov_file.write('\"data_segregation\":' + json.dumps(set_data_segregation(),sort_keys=False, indent=4) +',' + '\\n\\n' )\n",
    "    prov_file.write('\"model_parameters\":' + json.dumps(set_model_parameters(),sort_keys=False, indent=4) +',' + '\\n\\n' )\n",
    "    prov_file.write('\"training\":' + json.dumps(set_training(),sort_keys=False, indent=4) +',' + '\\n\\n' )\n",
    "    prov_file.write('\"evaluation\":' + json.dumps(set_evaluation(),sort_keys=False, indent=4) + '\\n' )\n",
    "    prov_file.write('}')"
   ]
  },
  {
   "cell_type": "markdown",
   "id": "c642f092",
   "metadata": {},
   "source": [
    "### Open Provenance Data"
   ]
  },
  {
   "cell_type": "code",
   "execution_count": null,
   "id": "c881f7aa",
   "metadata": {},
   "outputs": [],
   "source": [
    "provenance_open = widgets.Button(description = 'Open Provenance Data File')\n",
    "display(provenance_open)\n",
    "\n",
    "def on_button_clicked(b):\n",
    "    provenance_open.on_click = webbrowser.open('http://localhost:8888/lab/tree/GeneratedProvenanceData/'+ProvenanceName)\n",
    "\n",
    "provenance_open.on_click(on_button_clicked)"
   ]
  }
 ],
 "metadata": {
  "kernelspec": {
   "display_name": "Python 3 (ipykernel)",
   "language": "python",
   "name": "python3"
  },
  "language_info": {
   "codemirror_mode": {
    "name": "ipython",
    "version": 3
   },
   "file_extension": ".py",
   "mimetype": "text/x-python",
   "name": "python",
   "nbconvert_exporter": "python",
   "pygments_lexer": "ipython3",
   "version": "3.9.7"
  }
 },
 "nbformat": 4,
 "nbformat_minor": 5
}
